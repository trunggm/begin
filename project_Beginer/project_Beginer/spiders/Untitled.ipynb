{
 "cells": [
  {
   "cell_type": "code",
   "execution_count": 1,
   "metadata": {
    "collapsed": true
   },
   "outputs": [],
   "source": [
    "f = open('linkchap.txt', 'r')\n",
    "datachap = f.read()\n",
    "f.close()\n",
    "f1 = open('linktruyen.txt', 'r')\n",
    "datatruyen = f1.read()\n",
    "f1.close()"
   ]
  },
  {
   "cell_type": "code",
   "execution_count": 2,
   "metadata": {
    "collapsed": false
   },
   "outputs": [
    {
     "name": "stdout",
     "output_type": "stream",
     "text": [
      "632093\n",
      "6539\n"
     ]
    }
   ],
   "source": [
    "arraychap = datachap.split('\\n')\n",
    "arraytruyen = datatruyen.split('\\n')\n",
    "print len(arraychap)\n",
    "print len(arraytruyen)"
   ]
  },
  {
   "cell_type": "code",
   "execution_count": 11,
   "metadata": {
    "collapsed": false
   },
   "outputs": [
    {
     "name": "stdout",
     "output_type": "stream",
     "text": [
      "617593\n"
     ]
    }
   ],
   "source": [
    "arraychap = [x for x in arraychap if x.find('trang')==-1]\n",
    "print len(arraychap)"
   ]
  },
  {
   "cell_type": "code",
   "execution_count": 12,
   "metadata": {
    "collapsed": false
   },
   "outputs": [
    {
     "name": "stdout",
     "output_type": "stream",
     "text": [
      "http://truyenfull.vn/yeu-han-vo-tan/\n",
      "56\n",
      "http://truyenfull.vn/yeu-han-vo-tan/chuong-1/\n",
      "http://truyenfull.vn/yeu-han-vo-tan/chuong-10/\n",
      "http://truyenfull.vn/yeu-han-vo-tan/chuong-11/\n",
      "http://truyenfull.vn/yeu-han-vo-tan/chuong-12/\n",
      "http://truyenfull.vn/yeu-han-vo-tan/chuong-13/\n",
      "http://truyenfull.vn/yeu-han-vo-tan/chuong-14/\n",
      "http://truyenfull.vn/yeu-han-vo-tan/chuong-15/\n",
      "http://truyenfull.vn/yeu-han-vo-tan/chuong-16/\n",
      "http://truyenfull.vn/yeu-han-vo-tan/chuong-17/\n",
      "http://truyenfull.vn/yeu-han-vo-tan/chuong-18/\n",
      "http://truyenfull.vn/yeu-han-vo-tan/chuong-19/\n",
      "http://truyenfull.vn/yeu-han-vo-tan/chuong-2/\n",
      "http://truyenfull.vn/yeu-han-vo-tan/chuong-20/\n",
      "http://truyenfull.vn/yeu-han-vo-tan/chuong-21/\n",
      "http://truyenfull.vn/yeu-han-vo-tan/chuong-22/\n",
      "http://truyenfull.vn/yeu-han-vo-tan/chuong-23/\n",
      "http://truyenfull.vn/yeu-han-vo-tan/chuong-24/\n",
      "http://truyenfull.vn/yeu-han-vo-tan/chuong-25/\n",
      "http://truyenfull.vn/yeu-han-vo-tan/chuong-26/\n",
      "http://truyenfull.vn/yeu-han-vo-tan/chuong-27/\n",
      "http://truyenfull.vn/yeu-han-vo-tan/chuong-28/\n",
      "http://truyenfull.vn/yeu-han-vo-tan/chuong-29/\n",
      "http://truyenfull.vn/yeu-han-vo-tan/chuong-3/\n",
      "http://truyenfull.vn/yeu-han-vo-tan/chuong-30/\n",
      "http://truyenfull.vn/yeu-han-vo-tan/chuong-31/\n",
      "http://truyenfull.vn/yeu-han-vo-tan/chuong-32/\n",
      "http://truyenfull.vn/yeu-han-vo-tan/chuong-33/\n",
      "http://truyenfull.vn/yeu-han-vo-tan/chuong-34/\n",
      "http://truyenfull.vn/yeu-han-vo-tan/chuong-35/\n",
      "http://truyenfull.vn/yeu-han-vo-tan/chuong-36/\n",
      "http://truyenfull.vn/yeu-han-vo-tan/chuong-37/\n",
      "http://truyenfull.vn/yeu-han-vo-tan/chuong-38/\n",
      "http://truyenfull.vn/yeu-han-vo-tan/chuong-39/\n",
      "http://truyenfull.vn/yeu-han-vo-tan/chuong-4/\n",
      "http://truyenfull.vn/yeu-han-vo-tan/chuong-40/\n",
      "http://truyenfull.vn/yeu-han-vo-tan/chuong-41/\n",
      "http://truyenfull.vn/yeu-han-vo-tan/chuong-42/\n",
      "http://truyenfull.vn/yeu-han-vo-tan/chuong-43/\n",
      "http://truyenfull.vn/yeu-han-vo-tan/chuong-44/\n",
      "http://truyenfull.vn/yeu-han-vo-tan/chuong-45/\n",
      "http://truyenfull.vn/yeu-han-vo-tan/chuong-46/\n",
      "http://truyenfull.vn/yeu-han-vo-tan/chuong-47/\n",
      "http://truyenfull.vn/yeu-han-vo-tan/chuong-48/\n",
      "http://truyenfull.vn/yeu-han-vo-tan/chuong-49/\n",
      "http://truyenfull.vn/yeu-han-vo-tan/chuong-5/\n",
      "http://truyenfull.vn/yeu-han-vo-tan/chuong-50/\n",
      "http://truyenfull.vn/yeu-han-vo-tan/chuong-51/\n",
      "http://truyenfull.vn/yeu-han-vo-tan/chuong-52/\n",
      "http://truyenfull.vn/yeu-han-vo-tan/chuong-53/\n",
      "http://truyenfull.vn/yeu-han-vo-tan/chuong-54/\n",
      "http://truyenfull.vn/yeu-han-vo-tan/chuong-55/\n",
      "http://truyenfull.vn/yeu-han-vo-tan/chuong-56/\n",
      "http://truyenfull.vn/yeu-han-vo-tan/chuong-6/\n",
      "http://truyenfull.vn/yeu-han-vo-tan/chuong-7/\n",
      "http://truyenfull.vn/yeu-han-vo-tan/chuong-8/\n",
      "http://truyenfull.vn/yeu-han-vo-tan/chuong-9/\n"
     ]
    }
   ],
   "source": [
    "testtruyen = arraytruyen[1230]\n",
    "print testtruyen\n",
    "arraytesttruyen = [x for x in arraychap if x.startswith(testtruyen)]\n",
    "print len(arraytesttruyen)\n",
    "arraytesttruyen.sort()\n",
    "for x in arraytesttruyen:\n",
    "    print x"
   ]
  },
  {
   "cell_type": "code",
   "execution_count": 13,
   "metadata": {
    "collapsed": false
   },
   "outputs": [
    {
     "data": {
      "text/plain": [
       "['http://truyenfull.vn/quyen-than/chuong-115/',\n",
       " 'http://truyenfull.vn/quyen-than/chuong-938/',\n",
       " 'http://truyenfull.vn/o-re-chue-te/quyen-2-chuong-130/',\n",
       " 'http://truyenfull.vn/cam-ky-chi-luyen/quyen-2-chuong-67/',\n",
       " 'http://truyenfull.vn/mat-tham-phong-van/quyen-1-chuong-12/',\n",
       " 'http://truyenfull.vn/bat-diet-thanh-linh/quyen-4-chuong-66/',\n",
       " 'http://truyenfull.vn/cuu-bien-lien/quyen-8-chuong-4/',\n",
       " 'http://truyenfull.vn/khai-hoan-ca/quyen-2-chuong-34/',\n",
       " 'http://truyenfull.vn/tram-huong-tuyet/quyen-2-chuong-37/',\n",
       " 'http://truyenfull.vn/luc-tien/quyen-3-chuong-190/',\n",
       " 'http://truyenfull.vn/ta-khong-phai-vit-con-xau-xi/quyen-3-chuong-19/',\n",
       " 'http://truyenfull.vn/chien-tranh-va-hoa-binh/quyen-11-chuong-5/',\n",
       " 'http://truyenfull.vn/co-nang-hotboy-lanh-lung/quyen-2-chuong-20/',\n",
       " 'http://truyenfull.vn/loi-nguyen-lo-ban/quyen-2-chuong-19/',\n",
       " 'http://truyenfull.vn/dinh-cao-quyen-luc/chuong-116/',\n",
       " 'http://truyenfull.vn/trong-sinh-chi-on-uyen/quyen-4-chuong-107/',\n",
       " 'http://truyenfull.vn/luc-cung-vo-phi/quyen-2-chuong-39/',\n",
       " 'http://truyenfull.vn/diem-vuong-phuc-hac-vuong-phi-gay-roi/quyen-4-chuong-8/',\n",
       " 'http://truyenfull.vn/duong-thu-thanh-phi/quyen-2-chuong-40/',\n",
       " 'http://truyenfull.vn/nam-thang-voi-va/quyen-6-chuong-11/',\n",
       " 'http://truyenfull.vn/luc-tien/quyen-2-chuong-28/',\n",
       " 'http://truyenfull.vn/thuong-truong-dai-chien/quyen-4-chuong-449/',\n",
       " 'http://truyenfull.vn/hao-nu-18-hao-nu-thap-bat-gia/quyen-1-chuong-35/',\n",
       " 'http://truyenfull.vn/nguoi-cam-quyen/chuong-289/',\n",
       " 'http://truyenfull.vn/tinh-ngang-trai/quyen-3-chuong-20/',\n",
       " 'http://truyenfull.vn/ve-dep-quyen-ru/chuong-23/',\n",
       " 'http://truyenfull.vn/quang-chi-tu/quyen-9-chuong-24/',\n",
       " 'http://truyenfull.vn/o-re-chue-te/quyen-3-chuong-349/',\n",
       " 'http://truyenfull.vn/kiem-vuong-trieu/quyen-3-chuong-42/',\n",
       " 'http://truyenfull.vn/but-ve-giang-son-muc-to-xa-tac/quyen-2-chuong-205/',\n",
       " 'http://truyenfull.vn/quyen-luc-tuyet-doi/chuong-843/',\n",
       " 'http://truyenfull.vn/trum-tai-nguyen/quyen-3-chuong-288/',\n",
       " 'http://truyenfull.vn/trong-sinh-chi-on-uyen/quyen-3-chuong-117/',\n",
       " 'http://truyenfull.vn/duong-chim-bay/quyen-3-chuong-15/',\n",
       " 'http://truyenfull.vn/quyen-luc-tuyet-doi/chuong-800/',\n",
       " 'http://truyenfull.vn/vo-tam-dam-anh/quyen-2-chuong-13/',\n",
       " 'http://truyenfull.vn/tac-mieu/quyen-3-chuong-6/',\n",
       " 'http://truyenfull.vn/trong-sinh-chi-on-uyen/quyen-5-chuong-113/',\n",
       " 'http://truyenfull.vn/quang-chi-tu/quyen-12-chuong-24/',\n",
       " 'http://truyenfull.vn/thinh-the-phong-hoa/quyen-2-chuong-31/',\n",
       " 'http://truyenfull.vn/sung-phi-cua-vuong-ai-phi-thieu-quan-giao/quyen-1-chuong-61/',\n",
       " 'http://truyenfull.vn/cam-bay-hon-nhan-su-tra-thu-cua-tong-giam-doc/quyen-1-chuong-57/',\n",
       " 'http://truyenfull.vn/vo-yeu-xinh-dep-cua-tong-giam-doc-tan-ac/quyen-2-chuong-22/',\n",
       " 'http://truyenfull.vn/kho-du-lieu/quyen-4-chuong-19/',\n",
       " 'http://truyenfull.vn/dao/quyen-3-chuong-110/',\n",
       " 'http://truyenfull.vn/ngut-troi/quyen-1-chuong-15/',\n",
       " 'http://truyenfull.vn/hao-mon-kinh-mong-3-dung-de-lo-nhau/quyen-4-chuong-215/',\n",
       " 'http://truyenfull.vn/quang-chi-tu/quyen-10-chuong-26/',\n",
       " 'http://truyenfull.vn/long-trieu/quyen-13-chuong-76/',\n",
       " 'http://truyenfull.vn/hao-mon-kinh-mong-3-dung-de-lo-nhau/quyen-7-chuong-328/',\n",
       " 'http://truyenfull.vn/nguoi-cam-quyen/chuong-1079/',\n",
       " 'http://truyenfull.vn/quyen-luc-tuyet-doi/chuong-230/',\n",
       " 'http://truyenfull.vn/lieu-lang-loan-doc-phi-khuynh-thanh/quyen-3-chuong-187/',\n",
       " 'http://truyenfull.vn/trong-sinh-chi-on-uyen/quyen-6-chuong-163/',\n",
       " 'http://truyenfull.vn/ma-than-tuong-quan/quyen-9-chuong-5/',\n",
       " 'http://truyenfull.vn/hao-mon-kinh-mong-2-khe-uoc-dan-ukulele/quyen-5-chuong-38/',\n",
       " 'http://truyenfull.vn/gian-khach/quyen-4-chuong-219/',\n",
       " 'http://truyenfull.vn/tuong-vi-dem-dau-tien/quyen-2-chuong-9/',\n",
       " 'http://truyenfull.vn/anna-karenina/quyen-8-chuong-9/',\n",
       " 'http://truyenfull.vn/giao-dich-danh-mat-trai-tim-cua-trum-xa-hoi-den/quyen-3-chuong-22/',\n",
       " 'http://truyenfull.vn/bat-diet-thanh-linh/quyen-2-chuong-36/',\n",
       " 'http://truyenfull.vn/hoang-tuyen-dan-lo-nhan-he-liet/quyen-1-chuong-32/',\n",
       " 'http://truyenfull.vn/diu-dang-mot-chut-di-ma-daddy/quyen-1-chuong-81/',\n",
       " 'http://truyenfull.vn/dinh-cao-quyen-luc/chuong-20/',\n",
       " 'http://truyenfull.vn/tram-lam-huy-chuong/quyen-3-chuong-751/',\n",
       " 'http://truyenfull.vn/hoa-hong-som-mai/quyen-4-chuong-19/',\n",
       " 'http://truyenfull.vn/giao-dich-danh-mat-trai-tim-cua-trum-xa-hoi-den/quyen-11-chuong-30/',\n",
       " 'http://truyenfull.vn/linh-vu-cuu-thien/quyen-4-chuong-8/',\n",
       " 'http://truyenfull.vn/de-hau-thien-tai-hoang-de-dung-sang-ben/quyen-1-chuong-51/',\n",
       " 'http://truyenfull.vn/dao/quyen-1-chuong-49/',\n",
       " 'http://truyenfull.vn/trong-khai-mat-the/quyen-4-chuong-119/',\n",
       " 'http://truyenfull.vn/bat-diet-thanh-linh/quyen-4-chuong-31/',\n",
       " 'http://truyenfull.vn/co-nang-hotboy-lanh-lung/quyen-2-chuong-11/',\n",
       " 'http://truyenfull.vn/truong-sinh-bat-tu/quyen-5-chuong-44/',\n",
       " 'http://truyenfull.vn/long-trieu/quyen-5-chuong-74/',\n",
       " 'http://truyenfull.vn/soan-duong/quyen-10-chuong-31/',\n",
       " 'http://truyenfull.vn/hao-mon-lam-con-dau-ca-that-la-kho/quyen-2-chuong-1-2/',\n",
       " 'http://truyenfull.vn/thien-tai-trieu-hoi-su/quyen-3-chuong-54-2/',\n",
       " 'http://truyenfull.vn/nhat-pham-giang-son/quyen-1-chuong-40/',\n",
       " 'http://truyenfull.vn/ngu-ho-chien-su/quyen-4-chuong-5/',\n",
       " 'http://truyenfull.vn/cuoc-chien-thuong-vi/quyen-1-chuong-11/',\n",
       " 'http://truyenfull.vn/anna-karenina/quyen-3-chuong-17/',\n",
       " 'http://truyenfull.vn/quyen-than/chuong-328/',\n",
       " 'http://truyenfull.vn/sep-de-dat-mot-chut/quyen-2-chuong-75/',\n",
       " 'http://truyenfull.vn/den-phu-khai-phong-lam-nhan-vien-cong-vu/quyen-4-chuong-4/',\n",
       " 'http://truyenfull.vn/nguoi-cam-quyen/chuong-940/',\n",
       " 'http://truyenfull.vn/trum-tai-nguyen/quyen-3-chuong-277/',\n",
       " 'http://truyenfull.vn/ta-vuong-tuyet-sung-chinh-phi-doc-dia/quyen-1-chuong-19/',\n",
       " 'http://truyenfull.vn/da-thien-tu/quyen-3-chuong-28/',\n",
       " 'http://truyenfull.vn/luc-tien/quyen-3-chuong-235/',\n",
       " 'http://truyenfull.vn/long-trieu/quyen-9-chuong-12/',\n",
       " 'http://truyenfull.vn/huong-dan-xu-ly-rac-thai/quyen-7-chuong-1/',\n",
       " 'http://truyenfull.vn/vo-dich-hac-quyen/chuong-645/',\n",
       " 'http://truyenfull.vn/soan-duong/quyen-8-chuong-102/',\n",
       " 'http://truyenfull.vn/quyen-luc-tuyet-doi/chuong-776/',\n",
       " 'http://truyenfull.vn/cam-van-che-mach-thuong-suong/quyen-2-chuong-12/',\n",
       " 'http://truyenfull.vn/giao-dich-danh-mat-trai-tim-cua-trum-xa-hoi-den/quyen-13-chuong-7/',\n",
       " 'http://truyenfull.vn/but-ve-giang-son-muc-to-xa-tac/quyen-2-chuong-166/',\n",
       " 'http://truyenfull.vn/nguoi-khong-phai-dai-than-nguoi-qua-tieu-nhan/quyen-3-chuong-7/',\n",
       " 'http://truyenfull.vn/hac-am-van-minh/quyen-3-chuong-4/']"
      ]
     },
     "execution_count": 13,
     "metadata": {},
     "output_type": "execute_result"
    }
   ],
   "source": [
    "arrayquyen = [x for x in arraychap if x.find('quyen')!=-1]\n",
    "arrayquyen[:100]"
   ]
  },
  {
   "cell_type": "code",
   "execution_count": 18,
   "metadata": {
    "collapsed": false
   },
   "outputs": [
    {
     "name": "stdout",
     "output_type": "stream",
     "text": [
      "yes\n",
      "20\n"
     ]
    }
   ],
   "source": [
    "def getchaper(str):\n",
    "    quyen = 0;\n",
    "    chap = 0;\n",
    "    if str.find('quyển')!=-1:\n",
    "        print 'yes'\n",
    "getchaper('quyển 2 chương 1')\n",
    "print len(a)\n",
    "a = 'quyển 2 chương 1'"
   ]
  },
  {
   "cell_type": "code",
   "execution_count": 19,
   "metadata": {
    "collapsed": false
   },
   "outputs": [
    {
     "name": "stdout",
     "output_type": "stream",
     "text": [
      "quyá»ƒn 2 chÆ°Æ¡ng 1\n"
     ]
    }
   ],
   "source": [
    "print a.decode(\"windows-1252\")"
   ]
  },
  {
   "cell_type": "code",
   "execution_count": 21,
   "metadata": {
    "collapsed": false
   },
   "outputs": [
    {
     "name": "stdout",
     "output_type": "stream",
     "text": [
      "10\n"
     ]
    }
   ],
   "source": [
    "print a.find('chương')"
   ]
  },
  {
   "cell_type": "code",
   "execution_count": 22,
   "metadata": {
    "collapsed": false
   },
   "outputs": [
    {
     "name": "stdout",
     "output_type": "stream",
     "text": [
      "8\n"
     ]
    }
   ],
   "source": [
    "print len('chương')"
   ]
  },
  {
   "cell_type": "code",
   "execution_count": 23,
   "metadata": {
    "collapsed": false
   },
   "outputs": [
    {
     "name": "stdout",
     "output_type": "stream",
     "text": [
      "7\n"
     ]
    }
   ],
   "source": [
    "print len('quyển')"
   ]
  },
  {
   "cell_type": "code",
   "execution_count": 25,
   "metadata": {
    "collapsed": false
   },
   "outputs": [],
   "source": [
    "a = 'quyển 2 chương 1'\n",
    "b = a.split(' ')"
   ]
  },
  {
   "cell_type": "code",
   "execution_count": 26,
   "metadata": {
    "collapsed": false
   },
   "outputs": [
    {
     "data": {
      "text/plain": [
       "7"
      ]
     },
     "execution_count": 26,
     "metadata": {},
     "output_type": "execute_result"
    }
   ],
   "source": [
    "int(b[1])+5"
   ]
  },
  {
   "cell_type": "code",
   "execution_count": 30,
   "metadata": {
    "collapsed": false
   },
   "outputs": [
    {
     "name": "stdout",
     "output_type": "stream",
     "text": [
      "0 123\n"
     ]
    }
   ],
   "source": [
    "def getchaper(str):\n",
    "    arr = str.split(' ')\n",
    "    quyen = 0\n",
    "    chap = 0\n",
    "    if str.find('quyển')!=-1:\n",
    "        quyen = int(arr[1])\n",
    "        chap = int(arr[3])\n",
    "    else:\n",
    "        chap = arr[1]\n",
    "    return (quyen, chap)\n",
    "c = getchaper('chương 123')\n",
    "print c[0], c[1]"
   ]
  },
  {
   "cell_type": "code",
   "execution_count": 32,
   "metadata": {
    "collapsed": false
   },
   "outputs": [
    {
     "name": "stdout",
     "output_type": "stream",
     "text": [
      "Ngôn Tình\n"
     ]
    }
   ],
   "source": [
    "html = 'Ng\\xf4n T\\xecnh'\n",
    "decoded_str = html.decode(\"windows-1252\")\n",
    "encoded_str = decoded_str.encode(\"utf8\")\n",
    "print encoded_str"
   ]
  },
  {
   "cell_type": "code",
   "execution_count": 33,
   "metadata": {
    "collapsed": false
   },
   "outputs": [
    {
     "data": {
      "text/plain": [
       "['http://truyenfull.vn/yeu-han-vo-tan/chuong-1/',\n",
       " 'http://truyenfull.vn/yeu-han-vo-tan/chuong-10/',\n",
       " 'http://truyenfull.vn/yeu-han-vo-tan/chuong-11/',\n",
       " 'http://truyenfull.vn/yeu-han-vo-tan/chuong-12/',\n",
       " 'http://truyenfull.vn/yeu-han-vo-tan/chuong-13/',\n",
       " 'http://truyenfull.vn/yeu-han-vo-tan/chuong-14/',\n",
       " 'http://truyenfull.vn/yeu-han-vo-tan/chuong-15/',\n",
       " 'http://truyenfull.vn/yeu-han-vo-tan/chuong-16/',\n",
       " 'http://truyenfull.vn/yeu-han-vo-tan/chuong-17/',\n",
       " 'http://truyenfull.vn/yeu-han-vo-tan/chuong-18/']"
      ]
     },
     "execution_count": 33,
     "metadata": {},
     "output_type": "execute_result"
    }
   ],
   "source": [
    "arraytesttruyen[:10]"
   ]
  },
  {
   "cell_type": "code",
   "execution_count": 35,
   "metadata": {
    "collapsed": true
   },
   "outputs": [],
   "source": [
    "f = open('listchap.txt', 'a')\n",
    "arraychap.sort()\n",
    "for x in arraychap:\n",
    "    f.write(x+'\\n')\n",
    "f.close()"
   ]
  },
  {
   "cell_type": "code",
   "execution_count": null,
   "metadata": {
    "collapsed": true
   },
   "outputs": [],
   "source": []
  }
 ],
 "metadata": {
  "kernelspec": {
   "display_name": "Python 2",
   "language": "python",
   "name": "python2"
  },
  "language_info": {
   "codemirror_mode": {
    "name": "ipython",
    "version": 2
   },
   "file_extension": ".py",
   "mimetype": "text/x-python",
   "name": "python",
   "nbconvert_exporter": "python",
   "pygments_lexer": "ipython2",
   "version": "2.7.11"
  }
 },
 "nbformat": 4,
 "nbformat_minor": 0
}
